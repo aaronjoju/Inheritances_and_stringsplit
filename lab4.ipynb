{
 "cells": [
  {
   "cell_type": "code",
   "execution_count": 2,
   "metadata": {},
   "outputs": [
    {
     "name": "stdout",
     "output_type": "stream",
     "text": [
      "Brand: Samsung, Model: Galaxy S21, OS: Android\n",
      "Brand: Apple, Model: iPad Pro, Screen Size: 12.9 inches\n",
      "App Name: WhatsApp, Category: Communication, Rating: 4.5\n"
     ]
    }
   ],
   "source": [
    "# Base class representing an electronic device\n",
    "class ElectronicDevice:\n",
    "    def __init__(self, brand, model):\n",
    "        self.brand = brand\n",
    "        self.model = model\n",
    "\n",
    "    def display_info(self):\n",
    "        return f\"Brand: {self.brand}, Model: {self.model}\"\n",
    "\n",
    "# Subclass representing a mobile device, inheriting from ElectronicDevice\n",
    "class MobileDevice(ElectronicDevice):  # Multilevel Inheritance: Inherits from ElectronicDevice\n",
    "    def __init__(self, brand, model, os):\n",
    "        super().__init__(brand, model)\n",
    "        self.os = os\n",
    "\n",
    "    def display_info(self):\n",
    "        return super().display_info() + f\", OS: {self.os}\"\n",
    "\n",
    "# Subclass representing a tablet device, inheriting from ElectronicDevice\n",
    "class TabletDevice(ElectronicDevice):  # Multilevel Inheritance: Inherits from ElectronicDevice\n",
    "    def __init__(self, brand, model, screen_size):\n",
    "        super().__init__(brand, model)\n",
    "        self.screen_size = screen_size\n",
    "\n",
    "    def display_info(self):\n",
    "        return super().display_info() + f\", Screen Size: {self.screen_size}\"\n",
    "\n",
    "# Base class representing an application\n",
    "class App:\n",
    "    def __init__(self, name, category):\n",
    "        self.name = name\n",
    "        self.category = category\n",
    "\n",
    "    def display_info(self):\n",
    "        return f\"App Name: {self.name}, Category: {self.category}\"\n",
    "\n",
    "# Subclass representing an app on the Google Play Store, inheriting from App\n",
    "class GooglePlayStoreApp(App):  # Hierarchical Inheritance: Inherits from App\n",
    "    def __init__(self, name, category, rating):\n",
    "        super().__init__(name, category)\n",
    "        self.rating = rating\n",
    "\n",
    "    def display_info(self):\n",
    "        return super().display_info() + f\", Rating: {self.rating}\"\n",
    "\n",
    "# Example usage\n",
    "mobile = MobileDevice(\"Samsung\", \"Galaxy S21\", \"Android\")\n",
    "tablet = TabletDevice(\"Apple\", \"iPad Pro\", \"12.9 inches\")\n",
    "app = GooglePlayStoreApp(\"WhatsApp\", \"Communication\", 4.5)\n",
    "\n",
    "# Display information about the created objects\n",
    "print(mobile.display_info())\n",
    "print(tablet.display_info())\n",
    "print(app.display_info())\n"
   ]
  }
 ],
 "metadata": {
  "kernelspec": {
   "display_name": "Python 3",
   "language": "python",
   "name": "python3"
  },
  "language_info": {
   "codemirror_mode": {
    "name": "ipython",
    "version": 3
   },
   "file_extension": ".py",
   "mimetype": "text/x-python",
   "name": "python",
   "nbconvert_exporter": "python",
   "pygments_lexer": "ipython3",
   "version": "3.10.4"
  },
  "orig_nbformat": 4
 },
 "nbformat": 4,
 "nbformat_minor": 2
}
