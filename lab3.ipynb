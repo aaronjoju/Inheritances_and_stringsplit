{
 "cells": [
  {
   "cell_type": "code",
   "execution_count": 8,
   "metadata": {},
   "outputs": [
    {
     "name": "stdout",
     "output_type": "stream",
     "text": [
      "{'name': 'Aaron', 'domain': 'Googleplaystore', 'rollNo': '2347201'}\n"
     ]
    }
   ],
   "source": [
    "def splitString(string):\n",
    "    stringSplit = string.split(\"__\")\n",
    "    # print(splitString)\n",
    "    dictr={\n",
    "        \"name\":stringSplit[0],\"domain\":stringSplit[1],\"rollNo\":stringSplit[2]\n",
    "    }\n",
    "    print(dictr)\n",
    "splitString(\"Aaron__Googleplaystore__2347201\")"
   ]
  }
 ],
 "metadata": {
  "kernelspec": {
   "display_name": "Python 3",
   "language": "python",
   "name": "python3"
  },
  "language_info": {
   "codemirror_mode": {
    "name": "ipython",
    "version": 3
   },
   "file_extension": ".py",
   "mimetype": "text/x-python",
   "name": "python",
   "nbconvert_exporter": "python",
   "pygments_lexer": "ipython3",
   "version": "3.10.4"
  },
  "orig_nbformat": 4
 },
 "nbformat": 4,
 "nbformat_minor": 2
}
